{
 "cells": [
  {
   "cell_type": "markdown",
   "metadata": {},
   "source": [
    "### workshop 1.1\n",
    "\n",
    "Named and default arguments\n",
    "https://www.scala-exercises.org/std_lib/named_and_default_arguments\n",
    "\n",
    "Classes\n",
    "https://www.scala-exercises.org/std_lib/classes\n"
   ]
  },
  {
   "cell_type": "markdown",
   "metadata": {},
   "source": [
    "### workshop 1.2\n",
    "\n",
    "Arrays\n",
    "https://www.scala-exercises.org/std_lib/sequences_and_arrays\n",
    "\n",
    "Loops\n",
    "https://www.scala-exercises.org/std_lib/for_expressions\n",
    "\n",
    "List\n",
    "https://www.scala-exercises.org/std_lib/lists\n",
    "\n",
    "Tuples\n",
    "https://www.scala-exercises.org/std_lib/tuples\n",
    "\n",
    "Maps\n",
    "https://www.scala-exercises.org/std_lib/maps"
   ]
  },
  {
   "cell_type": "markdown",
   "metadata": {},
   "source": [
    "### workshop 1.3\n",
    "\n",
    "Objects\n",
    "https://www.scala-exercises.org/std_lib/objects\n",
    "\n",
    "Case Classes\n",
    "https://www.scala-exercises.org/std_lib/case_classes"
   ]
  }
 ],
 "metadata": {
  "kernelspec": {
   "display_name": "Scala 2.11",
   "language": "scala211",
   "name": "scala211"
  },
  "language_info": {
   "codemirror_mode": "text/x-scala",
   "file_extension": ".scala",
   "mimetype": "text/x-scala",
   "name": "scala211",
   "pygments_lexer": "scala",
   "version": "2.11.7"
  }
 },
 "nbformat": 4,
 "nbformat_minor": 1
}
