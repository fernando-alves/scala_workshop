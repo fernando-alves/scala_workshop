{
 "cells": [
  {
   "cell_type": "markdown",
   "metadata": {},
   "source": [
    "Katas"
   ]
  },
  {
   "cell_type": "markdown",
   "metadata": {},
   "source": [
    "### 1. Fizz Buzz \n",
    "\n",
    "For a given natural number greater than zero return:\n",
    "\n",
    "\"fizz\" if the number is dividable by 3\n",
    "\"buzz\" if the number is dividable by 5\n",
    "\"fizzbuzz\" if the number is dividable by 15\n",
    "the same number if no other requirement is fulfilled\n",
    "\n",
    "Tests are in this repo\n",
    "\n",
    "https://github.com/electricmonk/scala-katas/blob/master/src/test/scala/com/shaiyallin/FizzBuzzTest.scala"
   ]
  },
  {
   "cell_type": "markdown",
   "metadata": {
    "collapsed": true
   },
   "source": [
    "### 2. Tennis Game\n",
    "\n",
    "Implement a simple tennis game\n",
    "\n",
    "Rules:\n",
    "\n",
    "Scores from zero to three points are described as \"love\", \"fifteen\", \"thirty\", and \"forty\" respectively.\n",
    "If at least three points have been scored by each side and a player has one more point than his opponent, the score of the game is \"advantage\" for the player in the lead.\n",
    "If at least three points have been scored by each player, and the scores are equal, the score is \"deuce\".\n",
    "A game is won by the first player to have won at least four points in total and at least two points more than the opponent.\n",
    "\n",
    "Unit test found under Tennis ball game unit test.ipynb"
   ]
  }
 ],
 "metadata": {
  "kernelspec": {
   "display_name": "Scala 2.11",
   "language": "scala211",
   "name": "scala211"
  },
  "language_info": {
   "codemirror_mode": "text/x-scala",
   "file_extension": ".scala",
   "mimetype": "text/x-scala",
   "name": "scala211",
   "pygments_lexer": "scala",
   "version": "2.11.7"
  }
 },
 "nbformat": 4,
 "nbformat_minor": 1
}
