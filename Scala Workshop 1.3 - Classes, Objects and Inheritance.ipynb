{
 "cells": [
  {
   "cell_type": "markdown",
   "metadata": {},
   "source": [
    "## Classes"
   ]
  },
  {
   "cell_type": "code",
   "execution_count": null,
   "metadata": {
    "collapsed": false
   },
   "outputs": [],
   "source": [
    "// Example from \"Scala for the Impatient\", chapter 5\n",
    "class Counter {\n",
    "    private var value = 0\n",
    "    def increment() { value += 1}\n",
    "    def current() = value\n",
    "}"
   ]
  },
  {
   "cell_type": "code",
   "execution_count": null,
   "metadata": {
    "collapsed": true
   },
   "outputs": [],
   "source": [
    "val counter = new Counter\n",
    "counter.current()\n",
    "counter.increment()\n",
    "counter.current()"
   ]
  },
  {
   "cell_type": "markdown",
   "metadata": {},
   "source": [
    "Classes in Scala are declared similarly to Java:\n",
    "* They can be instantialized with the operator **new**;\n",
    "* They have **fields** defined as val or var, that are public by default. Fields always need to be initialized;\n",
    "* They have **method** defined wif def."
   ]
  },
  {
   "cell_type": "code",
   "execution_count": null,
   "metadata": {
    "collapsed": true
   },
   "outputs": [],
   "source": [
    "// Example from \"Scala for the Impatient\", chapter 5\n",
    "class Counter {\n",
    "    private var value = 0\n",
    "    def increment() { value += 1}\n",
    "    def current = value\n",
    "}\n",
    "\n",
    "val counter = new Counter\n",
    "counter.current // \"current\" can be called with or without parentesis\n",
    "counter.increment()\n",
    "counter.current"
   ]
  },
  {
   "cell_type": "markdown",
   "metadata": {},
   "source": [
    "Scala classes are public by default and multiple ones can be defined in the same file."
   ]
  },
  {
   "cell_type": "markdown",
   "metadata": {},
   "source": [
    "### Constructors"
   ]
  },
  {
   "cell_type": "code",
   "execution_count": null,
   "metadata": {
    "collapsed": true
   },
   "outputs": [],
   "source": [
    "class Person {\n",
    "    private var name = \"\"\n",
    "    private var age = 0\n",
    "    \n",
    "    def this(name: String) {\n",
    "        this()\n",
    "        this.name = name\n",
    "    }\n",
    "    \n",
    "    def this(name: String, age: Int) {\n",
    "        this(name)\n",
    "        this.age = age\n",
    "    }\n",
    "}\n",
    "\n",
    "new Person\n",
    "new Person(\"MyName\")\n",
    "new Person(\"MyName\", 25)"
   ]
  },
  {
   "cell_type": "markdown",
   "metadata": {},
   "source": [
    "Constructors in Scala are done via the method *this()*. A custom constructor always have to call the default construction (this()) or another custom constructor."
   ]
  },
  {
   "cell_type": "markdown",
   "metadata": {},
   "source": [
    "In Scala, a class can also define a *primary constructor* which is not defined by *this()*. The primary constructor is defined implicitly from the 2 different components listed below:"
   ]
  },
  {
   "cell_type": "code",
   "execution_count": null,
   "metadata": {
    "collapsed": true
   },
   "outputs": [],
   "source": [
    "// 1) A list of arguments right after the class name, preceded of var or val.\n",
    "//      Arguments  preceded of val or var become private fields;\n",
    "//      Argumentos without val or var become fields only if used by methods.\n",
    "class Person(val name: String, val age: Int, city: String, notAField: Int) {\n",
    "    // 2) A sequence of expressions that are execute on the class body\n",
    "    println(\"I was just created\")\n",
    "    println(\"This is not a field in this class: \" + notAField)\n",
    "    \n",
    "    def iAmFrom = \"I am from \" + city\n",
    "}\n",
    "\n",
    "val person = new Person(\"Filezinho bambino\", 29, \"Recife\", 1234)\n",
    "person.name\n",
    "person.age\n",
    "person.iAmFrom"
   ]
  },
  {
   "cell_type": "code",
   "execution_count": null,
   "metadata": {
    "collapsed": true
   },
   "outputs": [],
   "source": [
    "person.notAField"
   ]
  },
  {
   "cell_type": "markdown",
   "metadata": {},
   "source": [
    "### Objects"
   ]
  },
  {
   "cell_type": "markdown",
   "metadata": {},
   "source": [
    "There are no static methods in Scala, a similar mechanism can be achieved by defining methods in a **objects**, which are not to be confused with instance objects. Objects can be used similarly to Singletons:"
   ]
  },
  {
   "cell_type": "code",
   "execution_count": null,
   "metadata": {
    "collapsed": true
   },
   "outputs": [],
   "source": [
    "object AnObject {\n",
    "    println(\"I'm being acessed for the first time\")\n",
    "    \n",
    "    var state= 0\n",
    "    \n",
    "    def aMethod(x: Int) = {\n",
    "        state += 1\n",
    "        x + state\n",
    "    }\n",
    "}\n",
    "AnObject.state\n",
    "AnObject.aMethod(2)\n",
    "AnObject.state"
   ]
  },
  {
   "cell_type": "code",
   "execution_count": 1,
   "metadata": {
    "collapsed": false
   },
   "outputs": [
    {
     "data": {
      "text/plain": []
     },
     "metadata": {},
     "output_type": "display_data"
    }
   ],
   "source": [
    "// Exercise: define an Object that prints \"Hello World\" when initialized and that has a method name \"aMethod\" that \n",
    "//            returns 0.\n",
    "// When was the string printed to console? What happens when \"aMethod\" is called? What if it's called\n",
    "// a second time?"
   ]
  },
  {
   "cell_type": "markdown",
   "metadata": {},
   "source": [
    "Objects can not be instantiated or have aruments on their constructor.\n",
    "\n",
    "A common pattern in Scala is to define the instante methods in a class and static in a Object with the same name, called *companion object*."
   ]
  },
  {
   "cell_type": "code",
   "execution_count": null,
   "metadata": {
    "collapsed": true
   },
   "outputs": [],
   "source": [
    "// Example from \"Scala for the Impatient\", chapter 5\n",
    "class Account {\n",
    "    private val id = Account.newUniqueNumber()\n",
    "    \n",
    "    def myId = id\n",
    "}\n",
    "\n",
    "object Account {\n",
    "    private var lastNumber = 0\n",
    "    def newUniqueNumber() = {\n",
    "        lastNumber += 1\n",
    "        lastNumber\n",
    "    }\n",
    "}\n",
    "\n",
    "val account1 = new Account\n",
    "val account2 = new Account\n",
    "account1.myId\n",
    "account2.myId"
   ]
  },
  {
   "cell_type": "markdown",
   "metadata": {},
   "source": [
    "As long as it is defined on the same file, companion object can access private elemtents from its class and vice-versa"
   ]
  },
  {
   "cell_type": "code",
   "execution_count": null,
   "metadata": {
    "collapsed": true
   },
   "outputs": [],
   "source": [
    "// Exercise: recreate companion object above with a method that takes an Account and returns its private id.\n",
    "class Account {\n",
    "    private val id = Account.newUniqueNumber()\n",
    "    \n",
    "    def myId = id\n",
    "}"
   ]
  },
  {
   "cell_type": "markdown",
   "metadata": {},
   "source": [
    "#### *apply* method in Objects"
   ]
  },
  {
   "cell_type": "markdown",
   "metadata": {},
   "source": [
    "Another common pattern in Scala Objects is to have a method called *apply*. This method allows the create on instance objects similarly to a \"factory\". From the previous exemple:"
   ]
  },
  {
   "cell_type": "code",
   "execution_count": null,
   "metadata": {
    "collapsed": true
   },
   "outputs": [],
   "source": [
    "// Example from \"Scala for the Impatient\", chapter 5\n",
    "class Account(val name: String) {\n",
    "    private val id = Account.newUniqueNumber()\n",
    "    \n",
    "    def myId = id\n",
    "}\n",
    "\n",
    "object Account {\n",
    "    private var lastNumber = 0\n",
    "    def newUniqueNumber() = {\n",
    "        lastNumber += 1\n",
    "        lastNumber\n",
    "    }\n",
    "    \n",
    "    def apply(name: String) = new Account(name)\n",
    "}\n",
    "\n",
    "val account1 = Account(\"aName\")\n",
    "val account2 = Account(\"anotherName\")\n",
    "account1.name\n",
    "account2.name"
   ]
  },
  {
   "cell_type": "markdown",
   "metadata": {},
   "source": [
    "Anonyumous functions in Scala are, internally, Objetos with an *apply* method:"
   ]
  },
  {
   "cell_type": "code",
   "execution_count": null,
   "metadata": {
    "collapsed": true
   },
   "outputs": [],
   "source": [
    "val aFunction = (x: Int) => x + 1\n",
    "aFunction(1)\n",
    "aFunction.apply(1)"
   ]
  },
  {
   "cell_type": "code",
   "execution_count": null,
   "metadata": {
    "collapsed": true
   },
   "outputs": [],
   "source": [
    "// Exercise: re-create the function above using an explict Object, name aFucntion, and a method \"apply\""
   ]
  },
  {
   "cell_type": "markdown",
   "metadata": {},
   "source": [
    "### Case classes"
   ]
  },
  {
   "cell_type": "markdown",
   "metadata": {},
   "source": [
    "**Case class** is a helper to define classes with the following characteristics:\n",
    "* Arguments on the primary contructor are defined as imutable and public fiels, unless delcared as \"var\" or \"private\";\n",
    "* A companion object with a *apply* is automatically created, therefore classes dont need to be instantiated with \"new\";\n",
    "* Automatic implementation of *hashCode*, *toString* e *equals*, which allow objects to be compared using \"==\";\n",
    "* Automatic implementation of the *copy* method, that allows instances to be copied by changing only a subset of fields;\n"
   ]
  },
  {
   "cell_type": "code",
   "execution_count": null,
   "metadata": {
    "collapsed": true
   },
   "outputs": [],
   "source": [
    "case class Person(name: String, var age: Int, val address: String)\n",
    "val person1 = Person(\"MyName\", 17, \"Recife\")\n",
    "val person2 = Person(\"AnotherName\", 21, \"Fortaleza\")\n",
    "\n",
    "person1.name\n",
    "person1.age\n",
    "person1.age = 21\n",
    "person1.age\n",
    "\n",
    "person1 == person2\n",
    "\n",
    "val person3 = person1.copy(age = 32)\n",
    "person3.toString"
   ]
  },
  {
   "cell_type": "code",
   "execution_count": null,
   "metadata": {
    "collapsed": true
   },
   "outputs": [],
   "source": [
    "// Exercício: crie uma nova Person a partir de \"person2\" mudando o \"name\" para \"YetAnotherName\" \n",
    "// e o \"address\" para \"Natal\" (chame o método copy() passando os dois campos separados por vírgula)."
   ]
  },
  {
   "cell_type": "markdown",
   "metadata": {},
   "source": [
    "### Traits"
   ]
  },
  {
   "cell_type": "markdown",
   "metadata": {},
   "source": [
    "Scala equivalent to interfaces:"
   ]
  },
  {
   "cell_type": "code",
   "execution_count": null,
   "metadata": {
    "collapsed": true
   },
   "outputs": [],
   "source": [
    "trait Greeter {\n",
    "    def greet: String\n",
    "}\n",
    "\n",
    "trait Walker {\n",
    "    def walk: String\n",
    "}\n",
    "\n",
    "abstract class DefaultPerson extends Walker {\n",
    "    def walk = \"I am walking on two feet!\"\n",
    "}\n",
    "\n",
    "// First \"extends\", then \"with\"\n",
    "class Person extends DefaultPerson with Greeter {\n",
    "    def greet = \"Hello!\" // Try removing this\n",
    "}\n",
    "\n",
    "val person = new Person\n",
    "person.greet\n",
    "person.walk"
   ]
  },
  {
   "cell_type": "markdown",
   "metadata": {},
   "source": [
    "Objects and case classes can inherit from other classes and traits in a similar manner:"
   ]
  },
  {
   "cell_type": "code",
   "execution_count": null,
   "metadata": {
    "collapsed": true
   },
   "outputs": [],
   "source": [
    "object Aperson extends DefaultPerson with Greeter {\n",
    "    def greet = \"Hello from object!\"\n",
    "}\n",
    "\n",
    "case class Person(name: String) extends DefaultPerson with Greeter {\n",
    "    def greet = \"Hello from case class!\"\n",
    "}\n",
    "\n",
    "Aperson.greet\n",
    "Person(\"AName\").greet"
   ]
  },
  {
   "cell_type": "markdown",
   "metadata": {},
   "source": [
    "*Can an Object be abstract? What about a case class?*"
   ]
  },
  {
   "cell_type": "markdown",
   "metadata": {},
   "source": [
    "## *Value classes*"
   ]
  },
  {
   "cell_type": "markdown",
   "metadata": {},
   "source": [
    "As mentioned on notebook 1.1, it's possible to use Rich Types to make primitive values more readable and robust:"
   ]
  },
  {
   "cell_type": "code",
   "execution_count": null,
   "metadata": {
    "collapsed": true
   },
   "outputs": [],
   "source": [
    "// Example from https://stackoverflow.com/questions/42234299/are-there-advantages-for-using-value-class-without-methods-vs-type-alias\n",
    "val degreesInCelsius = 36.0\n",
    "val degreesInFarenheit = 96.8\n",
    "\n",
    "def c2f(c: Double): Double = (c * 9.0 / 5.0) + 32"
   ]
  },
  {
   "cell_type": "code",
   "execution_count": null,
   "metadata": {
    "collapsed": true
   },
   "outputs": [],
   "source": [
    "c2f(degreesInCelsius)   // Correct usage, degrees in Celsius\n",
    "c2f(degreesInFarenheit) // Incorrect usage, degrees in Fahrenheit - but how to fix it?"
   ]
  },
  {
   "cell_type": "code",
   "execution_count": null,
   "metadata": {
    "collapsed": true
   },
   "outputs": [],
   "source": [
    "case class CelsiusDegrees(deg: Double) extends AnyVal\n",
    "case class FahrenheitDegrees(deg: Double) extends AnyVal\n",
    "\n",
    "def safeC2F(c: CelsiusDegrees): FahrenheitDegrees = (c * 9.0 / 5.0) + 32"
   ]
  },
  {
   "cell_type": "markdown",
   "metadata": {},
   "source": [
    "The code above fails to compile cause they cannnot be declared inside another class or Object - in case of this notebooks, there's an implicit REPL. Copy the code into their own files and it should be files:"
   ]
  },
  {
   "cell_type": "code",
   "execution_count": null,
   "metadata": {
    "collapsed": true
   },
   "outputs": [],
   "source": [
    "case class CelsiusDegrees(deg: Double) extends AnyVal\n",
    "case class FahrenheitDegrees(deg: Double) extends AnyVal\n",
    "\n",
    "object ValueClassExample {\n",
    "    def safeC2F(c: CelsiusDegrees): FahrenheitDegrees = FahrenheitDegrees((c.deg * 9.0 / 5.0) + 32)\n",
    "\n",
    "    def main(args: Array[String]) = {\n",
    "        val degreesInCelsius: CelsiusDegrees = CelsiusDegrees(36.0)\n",
    "        val degreesInFarenheit: FahrenheitDegrees = FahrenheitDegrees(96.8)\n",
    "\n",
    "        // Should print \"FahrenheitDegrees(96.8)\"\n",
    "        println(safeC2F(degreesInCelsius))\n",
    "    }\n",
    "}"
   ]
  },
  {
   "cell_type": "code",
   "execution_count": null,
   "metadata": {
    "collapsed": true
   },
   "outputs": [],
   "source": [
    "case class CelsiusDegrees(deg: Double) extends AnyVal\n",
    "case class FahrenheitDegrees(deg: Double) extends AnyVal\n",
    "\n",
    "object InvalidValueClassExample {\n",
    "    def safeC2F(c: CelsiusDegrees): FahrenheitDegrees = FahrenheitDegrees((c.deg * 9.0 / 5.0) + 32)\n",
    "\n",
    "    def main(args: Array[String]) = {\n",
    "        val degreesInCelsius: CelsiusDegrees = CelsiusDegrees(36.0)\n",
    "        val degreesInFarenheit: FahrenheitDegrees = FahrenheitDegrees(96.8)\n",
    "\n",
    "        // Should be a compilation error\n",
    "        println(safeC2F(degreesInFarenheit))\n",
    "    }\n",
    "}"
   ]
  },
  {
   "cell_type": "markdown",
   "metadata": {},
   "source": [
    "Value classes have limitations:\n",
    "* Can only have a single constructor, it takes an argument *val* that can not be another value class;\n",
    "* Can only have *def*;\n",
    "* Can not be inherited by another classes\n",
    "\n",
    "[Complete list of limitations](https://docs.scala-lang.org/overviews/core/value-classes.html)."
   ]
  }
 ],
 "metadata": {
  "anaconda-cloud": {},
  "kernelspec": {
   "display_name": "Scala 2.11",
   "language": "scala211",
   "name": "scala211"
  },
  "language_info": {
   "codemirror_mode": "text/x-scala",
   "file_extension": ".scala",
   "mimetype": "text/x-scala",
   "name": "scala211",
   "pygments_lexer": "scala",
   "version": "2.11.7"
  }
 },
 "nbformat": 4,
 "nbformat_minor": 2
}
