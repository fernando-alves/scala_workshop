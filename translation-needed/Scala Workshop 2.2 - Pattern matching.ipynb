{
 "cells": [
  {
   "cell_type": "markdown",
   "metadata": {},
   "source": [
    "## match"
   ]
  },
  {
   "cell_type": "code",
   "execution_count": null,
   "metadata": {
    "collapsed": false
   },
   "outputs": [],
   "source": [
    "val aTuple = (1, 2, \"two\", 3.0, true, false, 'c')\n",
    "\n",
    "aTuple.productIterator.map(x => x match {\n",
    "    case s: String => \"It's a string!\"                   // Matching com o tipo\n",
    "    case d: Double => \"It's a double!\"                   // Matching com o tipo\n",
    "    case n: Int if n % 2 == 0 => \"It's an even integer!\" // case com cláusula de \"guarda\"\n",
    "    case n: Int if n % 2 == 1 => \"It's an odd integer!\"  // case com cláusula de \"guarda\"\n",
    "    case true | false => \"it's a boolean!\"               // Sintaxe de alternativa\n",
    "    case _ => \"I don't know what this is :|\"             // Case default\n",
    "}).toSeq.foreach(println)"
   ]
  },
  {
   "cell_type": "code",
   "execution_count": null,
   "metadata": {
    "collapsed": true
   },
   "outputs": [],
   "source": [
    "// O uso de \"case\" entre chaves gera uma função anônima com pattern matching no argumento \n",
    "// quando usado em operadores funcionais como \"map\".\n",
    "val aMap = Map(\"one\" -> 1, \"two\" -> 2)\n",
    "\n",
    "aMap.map({case (k: String, v: Int) => (v, k)})"
   ]
  },
  {
   "cell_type": "code",
   "execution_count": null,
   "metadata": {
    "collapsed": true
   },
   "outputs": [],
   "source": [
    "// É possível extrait campos de case classes usando pattern matching\n",
    "trait ATrait\n",
    "\n",
    "case class FirstCaseClass(integerField: Int) extends ATrait\n",
    "case class SecondCaseClass(stringField: String) extends ATrait\n",
    "\n",
    "Seq(FirstCaseClass(1), SecondCaseClass(\"two\"))\n",
    ".map(e => e match {\n",
    "    case FirstCaseClass(n) => n\n",
    "    case SecondCaseClass(s) => s\n",
    "})\n",
    ".foreach(println)"
   ]
  },
  {
   "cell_type": "code",
   "execution_count": null,
   "metadata": {
    "collapsed": true
   },
   "outputs": [],
   "source": [
    "// Exercício: Crie um trait chamado \"ValueSize\" e duas case classes que herdem dele:\n",
    "//            uma case class chamada \"IntValue\" que receba um Int no construtor;\n",
    "//            e uma case class chamada \"StringValue\" que receba uma String no construtor.\n",
    "//\n",
    "//            Crie um Seq contendo um objeto de cada uma dessas case classes e aplique um map\n",
    "//            a esse Seq - o map deve aplicar uma função que, caso receba um IntValue, retorne\n",
    "//            o valor passado em seu construtor e, se receber um StringValue, retorne o tamanho\n",
    "//            da String."
   ]
  },
  {
   "cell_type": "code",
   "execution_count": null,
   "metadata": {
    "collapsed": true
   },
   "outputs": [],
   "source": [
    "// Exercício: implemente um método que calcule o n-ésimo número de Fibonacci usando o mecanismo de match/case \n",
    "//            ilustrado nesse notebook. Uma implementação desse método sem usar pattern matching seria como \n",
    "//            na célula abaixo:"
   ]
  },
  {
   "cell_type": "code",
   "execution_count": null,
   "metadata": {
    "collapsed": true
   },
   "outputs": [],
   "source": [
    "def fib(n: Int): Int = {\n",
    "    if (n == 0 || n == 1)\n",
    "        1\n",
    "    else\n",
    "        fib(n-1) + fib(n-2)\n",
    "}"
   ]
  }
 ],
 "metadata": {
  "anaconda-cloud": {},
  "kernelspec": {
   "display_name": "Scala 2.11",
   "language": "scala211",
   "name": "scala211"
  },
  "language_info": {
   "codemirror_mode": "text/x-scala",
   "file_extension": ".scala",
   "mimetype": "text/x-scala",
   "name": "scala211",
   "pygments_lexer": "scala",
   "version": "2.11.7"
  }
 },
 "nbformat": 4,
 "nbformat_minor": 2
}
