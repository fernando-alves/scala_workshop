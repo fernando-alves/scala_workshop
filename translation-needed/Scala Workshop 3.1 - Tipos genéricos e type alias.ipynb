{
 "cells": [
  {
   "cell_type": "markdown",
   "metadata": {},
   "source": [
    "## Tipos genéricos"
   ]
  },
  {
   "cell_type": "code",
   "execution_count": null,
   "metadata": {
    "collapsed": false
   },
   "outputs": [],
   "source": [
    "val randomGenerator = scala.util.Random\n",
    "\n",
    "def randomElement(elements: Seq[Int]): Int = {\n",
    "    elements(randomGenerator.nextInt(elements.length))\n",
    "}\n",
    "\n",
    "val someIntElements = Seq(1, 2, 3, 4)\n",
    "randomElement(someIntElements)"
   ]
  },
  {
   "cell_type": "markdown",
   "metadata": {},
   "source": [
    "*E se quiséssemos fazer essa operação sobre uma sequência de Strings ou de Booleans?*"
   ]
  },
  {
   "cell_type": "code",
   "execution_count": null,
   "metadata": {
    "collapsed": true
   },
   "outputs": [],
   "source": [
    "def genericRandomElement[T](elements: Seq[T]): T = {\n",
    "    elements(randomGenerator.nextInt(elements.length))\n",
    "}\n",
    "\n",
    "val someStringElements = Seq(\"one\", \"two\", \"three\", \"four\")\n",
    "genericRandomElement(someElements)\n",
    "genericRandomElement(someStringElements)"
   ]
  },
  {
   "cell_type": "markdown",
   "metadata": {},
   "source": [
    "O uso de tipos genéricos pode ser especificado também em classes - define-se o nome do tipo genérico sobre o qual aquela classe opera e, em sua definição, pode-se declarar campos e métodos que usem aquele tipo genérico:"
   ]
  },
  {
   "cell_type": "code",
   "execution_count": null,
   "metadata": {
    "collapsed": true
   },
   "outputs": [],
   "source": [
    "class Box[T](val thing: T)\n",
    "\n",
    "val aBox = new Box(1)\n",
    "val anotherBox = new Box(\"One\")\n",
    "val yetAnotherBox = new Box(true)\n",
    "\n",
    "aBox.thing\n",
    "anotherBox.thing\n",
    "yetAnotherBox.thing"
   ]
  },
  {
   "cell_type": "markdown",
   "metadata": {},
   "source": [
    "## Type alias"
   ]
  },
  {
   "cell_type": "markdown",
   "metadata": {},
   "source": [
    "*Type aliases* em Scala permitem criar tipos com nomes mais descritivos a partir de tipos existentes. Voltando ao exemplo de conversão de temperaturas:"
   ]
  },
  {
   "cell_type": "code",
   "execution_count": null,
   "metadata": {
    "collapsed": true
   },
   "outputs": [],
   "source": [
    "// Exemplo adaptado de https://stackoverflow.com/questions/42234299/are-there-advantages-for-using-value-class-without-methods-vs-type-alias\n",
    "val degreesInCelsius = 36.0\n",
    "val degreesInFarenheit = 96.8\n",
    "\n",
    "def c2f(c: Double): Double = (c * 9.0 / 5.0) + 32"
   ]
  },
  {
   "cell_type": "markdown",
   "metadata": {},
   "source": [
    "Pode-se definir que o método *c2f* recebe uma temperatura em Celsius e retorna uma temperatura em Fahrenheit usando um type alias sobre o tipo **Double**:"
   ]
  },
  {
   "cell_type": "code",
   "execution_count": null,
   "metadata": {
    "collapsed": true
   },
   "outputs": [],
   "source": [
    "type CelsiusDegrees = Double\n",
    "type FahrenheitDegrees = Double\n",
    "\n",
    "val degreesInCelsius: CelsiusDegrees = 36.0\n",
    "val degreesInFarenheit: FahrenheitDegrees = 96.8\n",
    "\n",
    "def c2f(c: CelsiusDegrees): FahrenheitDegrees = (c * 9.0 / 5.0) + 32"
   ]
  },
  {
   "cell_type": "code",
   "execution_count": null,
   "metadata": {
    "collapsed": true
   },
   "outputs": [],
   "source": [
    "c2f(degreesInCelsius)   // Ok :)\n",
    "c2f(degreesInFarenheit) // Pode? :|"
   ]
  },
  {
   "cell_type": "markdown",
   "metadata": {},
   "source": [
    "O uso de type alias permite criar tipos descritivos rapidamente e sem precisar mudar o uso de valores daquele tipo - no exemplo acima, uma função que operava sobre Doubles pôde continuar sendo usada com o tipo **CelsiusDegree** sem precisar-se modificar sua implementação.\n",
    "\n",
    "No entanto, a célula acima ilustra que type aliases não fornecem checagem de tipos em tempo de compilação - a função que recebe um valor do tipo **CelsiusDegrees** pôde ser chamada com um valor **FahrenheitDegrees** sem lançar nenhum erro, já que ambas apenas representam valores **Double**."
   ]
  }
 ],
 "metadata": {
  "anaconda-cloud": {},
  "kernelspec": {
   "display_name": "Scala 2.11",
   "language": "scala211",
   "name": "scala211"
  },
  "language_info": {
   "codemirror_mode": "text/x-scala",
   "file_extension": ".scala",
   "mimetype": "text/x-scala",
   "name": "scala211",
   "pygments_lexer": "scala",
   "version": "2.11.7"
  }
 },
 "nbformat": 4,
 "nbformat_minor": 2
}
