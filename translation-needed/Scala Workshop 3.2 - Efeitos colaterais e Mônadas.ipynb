{
 "cells": [
  {
   "cell_type": "markdown",
   "metadata": {},
   "source": [
    "Por ser uma linguagem funcional, Scala encoraja o uso de *funções puras* e *estruturas imutáveis*. No entanto, principalmente quando se interage com serviços externos, é difícil garantir que uma função sempre retorne o mesmo valor quando chamada com os mesmos argumentos. Uma maneira de manter as funções puras mesmo com a presença de *efeitos colaterais* na operação da função é encapsular o retorno da função em um tipo que represente esse efeito colateral - esses tipos que representam efeitos colaterais são chamados de ***mônadas***."
   ]
  },
  {
   "cell_type": "markdown",
   "metadata": {},
   "source": [
    "## Primeira mônada: Option"
   ]
  },
  {
   "cell_type": "code",
   "execution_count": null,
   "metadata": {
    "collapsed": false
   },
   "outputs": [],
   "source": [
    "val aMap = Map(\"one\" -> 1, \"two\" -> 2)\n",
    "\n",
    "aMap(\"one\")"
   ]
  },
  {
   "cell_type": "code",
   "execution_count": null,
   "metadata": {
    "collapsed": true
   },
   "outputs": [],
   "source": [
    "aMap(\"three\")  // Lança uma exceção, não é uma função pura"
   ]
  },
  {
   "cell_type": "markdown",
   "metadata": {},
   "source": [
    "A mônada **Option** representa o efeito colateral da *possível ausência de um valor*. Ela permite, através dos métodos *isDefined* e *isEmpty*, checar se o valor está presente ou não e obter o valor, quando presente, através do método *get*.\n",
    "\n",
    "Um **Option** pode assumir dois tipos: \n",
    "* Um *Some* quando o valor está presente;\n",
    "* Um *None* quando o valor está ausente;\n",
    "\n",
    "Esses tipos podem ser usadoss para se retornar um **Option** em um método:"
   ]
  },
  {
   "cell_type": "code",
   "execution_count": null,
   "metadata": {
    "collapsed": true
   },
   "outputs": [],
   "source": [
    "val valueForTwo = aMap.get(\"two\")\n",
    "val valueForThree = aMap.get(\"three\")\n",
    "\n",
    "if (valueForTwo.isDefined)\n",
    "    println(valueForTwo.get)\n",
    "else\n",
    "    println(\"No mapped value for 'two'\")\n",
    "\n",
    "if (valueForThree.isDefined)\n",
    "    println(valueForThree.get)\n",
    "else\n",
    "    println(\"No mapped value for 'three'\")"
   ]
  },
  {
   "cell_type": "code",
   "execution_count": null,
   "metadata": {
    "collapsed": true
   },
   "outputs": [],
   "source": [
    "def iCanReturnAnOption(n: Int): Option[Int] = {\n",
    "    if (n < 3)\n",
    "        Some(n * 2)\n",
    "    else\n",
    "        None\n",
    "}\n",
    "\n",
    "iCanReturnAnOption(2)\n",
    "iCanReturnAnOption(5)"
   ]
  },
  {
   "cell_type": "markdown",
   "metadata": {},
   "source": [
    "## Outra mônada: Future"
   ]
  },
  {
   "cell_type": "code",
   "execution_count": null,
   "metadata": {
    "collapsed": true
   },
   "outputs": [],
   "source": [
    "val randomGenerator = scala.util.Random\n",
    "\n",
    "def randomDelay() = {\n",
    "    val waitingTime = randomGenerator.nextInt(5)\n",
    "    Thread.sleep(waitingTime * 1000)\n",
    "    \n",
    "    waitingTime\n",
    "}"
   ]
  },
  {
   "cell_type": "code",
   "execution_count": null,
   "metadata": {
    "collapsed": true
   },
   "outputs": [],
   "source": [
    "println(randomDelay())\n",
    "println(randomDelay())"
   ]
  },
  {
   "cell_type": "markdown",
   "metadata": {},
   "source": [
    "A mônada **Future** permite trabalhar-se com o possível resultado de um método quando existe um atraso entre o momento em que o método retorna e o momento em que o resultado dele torna-se disponível. Ela costuma ser usada como tipo de retorno em métodos que consultam serviços externos a fim de representar o tempo da consulta a esse serviço.\n",
    "**Future** pode assumir dois tipos:\n",
    "* *Success* quando, ao terminar de processar o retorno, o método retornar um valor com sucesso;\n",
    "* *Failure* quando, ao terminar de processar o retorno, o método declara uma falha no processamento;\n",
    "\n",
    "É possível fazer com que um método retorne um **Future** colocando um bloco *Future {}* em volta do corpo do método - valores retornados normalmente serão encapsulados em um *Success* e exceções serão retornadas como *Failures*."
   ]
  },
  {
   "cell_type": "code",
   "execution_count": null,
   "metadata": {
    "collapsed": true
   },
   "outputs": [],
   "source": [
    "import scala.concurrent.{Await, Future}\n",
    "import scala.concurrent.ExecutionContext.Implicits.global\n",
    "\n",
    "def asyncDelay(shouldFail: Boolean): Future[Int] = Future {\n",
    "    if (shouldFail)\n",
    "        throw new Exception(\"Falhou :/\")\n",
    "    else {\n",
    "        val waitingTime = 5\n",
    "        Thread.sleep(waitingTime * 1000)\n",
    "    \n",
    "        waitingTime\n",
    "    }\n",
    "}"
   ]
  },
  {
   "cell_type": "code",
   "execution_count": null,
   "metadata": {
    "collapsed": true
   },
   "outputs": [],
   "source": [
    "import scala.util.{Success, Failure}\n",
    "\n",
    "val firstAttempt = asyncDelay(false)\n",
    "val secondAttempt = asyncDelay(true)\n",
    "\n",
    "firstAttempt.onComplete {\n",
    "    case Success(result) => println(result)\n",
    "    case Failure(cause) => println(cause)\n",
    "}\n",
    "secondAttempt.onComplete {\n",
    "    case Success(result) => println(result)\n",
    "    case Failure(cause) => println(cause)\n",
    "}"
   ]
  },
  {
   "cell_type": "code",
   "execution_count": null,
   "metadata": {
    "collapsed": true
   },
   "outputs": [],
   "source": [
    "import scala.concurrent.duration._\n",
    "\n",
    "val thirdAttempt = asyncDelay(false)\n",
    "Await.result(fourthAttempt, 6 seconds)"
   ]
  },
  {
   "cell_type": "code",
   "execution_count": null,
   "metadata": {
    "collapsed": true
   },
   "outputs": [],
   "source": [
    "val fourthAttempt = asyncDelay(false)\n",
    "Await.result(thirdAttempt, 2 seconds)"
   ]
  },
  {
   "cell_type": "markdown",
   "metadata": {},
   "source": [
    "## Mônadas, operadores e for"
   ]
  },
  {
   "cell_type": "markdown",
   "metadata": {},
   "source": [
    "### Operadores"
   ]
  },
  {
   "cell_type": "markdown",
   "metadata": {},
   "source": [
    "Um processamento comum feito sobre resultados com efeitos colaterais é tentar usar o valor desse resultado antes de se saber se ele está disponível ou se houve uma falha:\n",
    "* Quando se tem um resultado **Option**, deseja-se ignorá-lo quando o resultado é *None*;\n",
    "* Quando se tem um resultado **Future**, deseja-se ignorá-lo quando o resultado é *Failure*;\n",
    "\n",
    "Já vimos anteriormente que pode-se usar if/else para isso, mas uma outra maneira é o operador *map*:"
   ]
  },
  {
   "cell_type": "code",
   "execution_count": null,
   "metadata": {
    "collapsed": true
   },
   "outputs": [],
   "source": [
    "val someOption: Option[Int] = Some(1)\n",
    "val NoneOption: Option[Int] = None\n",
    "\n",
    "val firstResult = someOption.map(_ * 2)\n",
    "val secondResult = NoneOption.map(_ * 2) // \"map\" continua retornando None caso o valor de entrada já seja None"
   ]
  },
  {
   "cell_type": "markdown",
   "metadata": {},
   "source": [
    "Uma variação do cenário acima é quando se tem um conjunto de resultados com efeitos colaterais e deseja-se remover todos os resultados de falha antes de se aplicar uma transformação. Isso pode ser obtido com o uso de *filter* seguido de *map*:"
   ]
  },
  {
   "cell_type": "code",
   "execution_count": null,
   "metadata": {
    "collapsed": true
   },
   "outputs": [],
   "source": [
    "val someResults = Seq(Some(1), Some(2), None, None, Some(5))\n",
    "\n",
    "someResults.filter(_.isDefined).map(_.get * 2)"
   ]
  },
  {
   "cell_type": "markdown",
   "metadata": {},
   "source": [
    "Uma maneira mais concisa e equivalente de se fazer isso é usando o operador *flatMap* - esse operador vai aplicar uma transformação a cada resultado do conjunto e então remover os resultados com efeito colateral de falha:"
   ]
  },
  {
   "cell_type": "code",
   "execution_count": null,
   "metadata": {
    "collapsed": true
   },
   "outputs": [],
   "source": [
    "someResults.flatMap(o => o.map(_ * 2))"
   ]
  },
  {
   "cell_type": "markdown",
   "metadata": {},
   "source": [
    "### Uso do laço for com mônadas"
   ]
  },
  {
   "cell_type": "markdown",
   "metadata": {},
   "source": [
    "Quando se tem resultados individuais com efeitos colaterais, é comum ter que se combiná-los para gerar um novo resultado - isso exige que se cheque se esses resultados individuais são falhas antes de combiná-los:"
   ]
  },
  {
   "cell_type": "code",
   "execution_count": null,
   "metadata": {
    "collapsed": true
   },
   "outputs": [],
   "source": [
    "if(firstResult.isDefined && secondResult.isDefined)\n",
    "    println(\"Resultado geral é \" + firstResult.get + secondResult.get)\n",
    "else \n",
    "    println(\"Algum resultado falhou\")"
   ]
  },
  {
   "cell_type": "markdown",
   "metadata": {},
   "source": [
    "Uma maneira mais simples de se checar resultados individuais e combiná-los em um novo resultado em caso de sucesso é usando um laço *for* em Scala:"
   ]
  },
  {
   "cell_type": "code",
   "execution_count": null,
   "metadata": {
    "collapsed": true
   },
   "outputs": [],
   "source": [
    "val combinedResult = for {\n",
    "    firstResultValue <- firstResult\n",
    "    secondResultValue <- secondResult\n",
    "} yield firstResultValue + secondResultValue"
   ]
  },
  {
   "cell_type": "code",
   "execution_count": null,
   "metadata": {
    "collapsed": true
   },
   "outputs": [],
   "source": [
    "val thirdResult = Some(3)\n",
    "\n",
    "val combinedResult = for {\n",
    "    firstResultValue <- firstResult\n",
    "    thirdResultValue <- thirdResult\n",
    "} yield firstResultValue + thirdResultValue\n",
    "\n",
    "if(combinedResult.isDefined)\n",
    "    println(\"Resultado geral é \" + combinedResult.get)\n",
    "else\n",
    "    println(\"Algum resultado falhou\")"
   ]
  },
  {
   "cell_type": "markdown",
   "metadata": {},
   "source": [
    "O laço *for* permite extrair os valores encapsulados em um efeito colateral e usá-los em alguma expressão para formar um novo resultado ***encapsulado naquele mesmo tipo de efeito colateral***, retornando imediatamente um resultado de falha caso pelo menos um dos resultados de entrada seja uma falha.\n",
    "\n",
    "Essa estratégia permite que se combine resultados com efeitos colaterais sem precisar checar se eles possuem algum valor e postergar a checagem de falhas apenas para o momento em que isso for estritamente necessário."
   ]
  }
 ],
 "metadata": {
  "anaconda-cloud": {},
  "kernelspec": {
   "display_name": "Scala 2.11",
   "language": "scala211",
   "name": "scala211"
  },
  "language_info": {
   "codemirror_mode": "text/x-scala",
   "file_extension": ".scala",
   "mimetype": "text/x-scala",
   "name": "scala211",
   "pygments_lexer": "scala",
   "version": "2.11.7"
  }
 },
 "nbformat": 4,
 "nbformat_minor": 2
}
