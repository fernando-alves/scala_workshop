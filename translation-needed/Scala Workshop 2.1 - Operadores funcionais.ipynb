{
 "cells": [
  {
   "cell_type": "markdown",
   "metadata": {},
   "source": [
    "## Map"
   ]
  },
  {
   "cell_type": "markdown",
   "metadata": {},
   "source": [
    "A operação *map* aplica uma função a cada elemento de um container:"
   ]
  },
  {
   "cell_type": "code",
   "execution_count": null,
   "metadata": {
    "collapsed": false
   },
   "outputs": [],
   "source": [
    "val aSeq = Seq(1, 2, 3, 4)\n",
    "val aFunction = (x: Int) => x*2\n",
    "\n",
    "aSeq.map(aFunction)"
   ]
  },
  {
   "cell_type": "code",
   "execution_count": null,
   "metadata": {
    "collapsed": true
   },
   "outputs": [],
   "source": [
    "// Exercício: crie um objeto chamado Cuber contendo um método \"cube\" que recebe um Int e \n",
    "//            retorna esse Int elevado ao cubo. Passe esse método para um operador \"map\"\n",
    "//            aplicado à variável \"aSeq\" acima."
   ]
  },
  {
   "cell_type": "code",
   "execution_count": null,
   "metadata": {
    "collapsed": false
   },
   "outputs": [],
   "source": [
    "// Usando função anônima\n",
    "aSeq.map(x => x * 2) // Note que não foi necessário colocar \"x\" entre parênteses tampouco declarar seu tipo"
   ]
  },
  {
   "cell_type": "code",
   "execution_count": null,
   "metadata": {
    "collapsed": true
   },
   "outputs": [],
   "source": [
    "// Usando notação de \"placeholder\".\n",
    "// A seção 23.6 da especificação da linguagem Scala define o uso da notação de placeholder da seguinte forma:\n",
    "// \"An expression e of syntactic category Expr binds an underscore section u, if the following\n",
    "// two conditions hold: (1) e properly contains u, and (2) there is no other expression\n",
    "// of syntactic category Expr which is properly contained in e and which itself\n",
    "// properly contains u.\"\n",
    "//\n",
    "// Ou seja, é bem confuso entender quando se pode ou não usar essa notação, então é recomendado usá-la apenas\n",
    "// para funções simples como a ilustrada abaixo:\n",
    "aSeq.map(_ * 2)"
   ]
  },
  {
   "cell_type": "code",
   "execution_count": null,
   "metadata": {
    "collapsed": false
   },
   "outputs": [],
   "source": [
    "// A operação \"map\" em Mapas aplica uma função às tuplas (chave, valor) do Mapa:\n",
    "val aMap = Map(\"one\" -> 1, \"two\" -> 2)"
   ]
  },
  {
   "cell_type": "markdown",
   "metadata": {},
   "source": [
    "*O operador map, quando aplicado a listas, aplica uma transformação a cada elemento. A o quê, então, um operador map aplicado a um mapa aplica uma transformação?*"
   ]
  },
  {
   "cell_type": "code",
   "execution_count": null,
   "metadata": {
    "collapsed": true
   },
   "outputs": [],
   "source": [
    "// Exercício: aplique um \"map\" à variável \"aMap\" acima passando uma função que transforma cada elemento na sua classe."
   ]
  },
  {
   "cell_type": "code",
   "execution_count": null,
   "metadata": {
    "collapsed": true
   },
   "outputs": [],
   "source": [
    "// Exercício: usando o operador \"map\", inverta a ordem de chave/valor na variável \"aMap\" - isto é, transforme\n",
    "//            Map(\"one\" -> 1, \"two\" -> 2) em Map(1 -> \"one\", 2 -> \"two\")."
   ]
  },
  {
   "cell_type": "markdown",
   "metadata": {},
   "source": [
    "## Filter"
   ]
  },
  {
   "cell_type": "markdown",
   "metadata": {},
   "source": [
    "A operação *filter* aplica uma \"função de teste\" para cada elemento de um container e apenas deixa passar os elementos que \"passam no teste\". Essa \"função de teste\" é simplesmente uma função que recebe um parâmetro e retorna um Boolean:"
   ]
  },
  {
   "cell_type": "code",
   "execution_count": null,
   "metadata": {
    "collapsed": true
   },
   "outputs": [],
   "source": [
    "aSeq.filter(x => x < 3) // Quais elementos serão removidos de \"aSeq\"?"
   ]
  },
  {
   "cell_type": "code",
   "execution_count": null,
   "metadata": {
    "collapsed": true
   },
   "outputs": [],
   "source": [
    "// Exercício: usando maps e filters, eleve todos os elementos de \"aSeq\" ao quadrado e remova, do resultado, os\n",
    "//            elementos menores do que 8."
   ]
  },
  {
   "cell_type": "markdown",
   "metadata": {},
   "source": [
    "## Flatten"
   ]
  },
  {
   "cell_type": "markdown",
   "metadata": {},
   "source": [
    "A operação *flatten* remove uma \"camada de container\" quando se tem containeres aninhados:"
   ]
  },
  {
   "cell_type": "code",
   "execution_count": null,
   "metadata": {
    "collapsed": false
   },
   "outputs": [],
   "source": [
    "val aSeqInsideAnotherSeq = Seq(Seq(1, 2), Seq(3, 4))"
   ]
  },
  {
   "cell_type": "code",
   "execution_count": null,
   "metadata": {
    "collapsed": false
   },
   "outputs": [],
   "source": [
    "aSeqInsideAnotherSeq.flatten"
   ]
  },
  {
   "cell_type": "code",
   "execution_count": null,
   "metadata": {
    "collapsed": true
   },
   "outputs": [],
   "source": [
    "// Exercício: crie uma lista contendo dois elementos: uma lista contendo três elementos e uma lista vazia.\n",
    "//            O que acontece quando se aplica um flatten a essa lista?"
   ]
  },
  {
   "cell_type": "code",
   "execution_count": null,
   "metadata": {
    "collapsed": true
   },
   "outputs": [],
   "source": [
    "val numberNames = Map(1 -> Seq(\"um\", \"one\"), 2 -> Seq(\"dois\", \"two\"))\n",
    "def getNames(x: Int) = numberNames(x)\n",
    "val someNumbers = Seq(1, 2)\n",
    "\n",
    "// Exercício: use um map seguido de flatten para obter uma lista única com todas os nomes (em português e inglês)\n",
    "//            dos números na lista \"someNumbers\". O resultado esperado é Seq(\"um\", \"one\", \"dois\", \"two\")."
   ]
  },
  {
   "cell_type": "markdown",
   "metadata": {},
   "source": [
    "É bastante comum usar-se uma sequência de *map* seguido de *flatten* para aplicar alguma transformação a cada container interno e depois concatenar os resultados - tão comum que se criou uma operação chamada *flatMap* que faz exatamente isso:"
   ]
  },
  {
   "cell_type": "code",
   "execution_count": null,
   "metadata": {
    "collapsed": true
   },
   "outputs": [],
   "source": [
    "// Exercício: reescreva a solução do exercício acima usando apenas um \"flatMap\" no lugar de \"map\" e \"flatten\"\n",
    "// Mesmo resultado da sequência \"map\".\"flatten\" acima"
   ]
  },
  {
   "cell_type": "markdown",
   "metadata": {},
   "source": [
    "## Zip"
   ]
  },
  {
   "cell_type": "markdown",
   "metadata": {},
   "source": [
    "O operador \"zip\" é usado para transformar dois containeres em um só, onde cada elemento é uma tupla contendo os elementos que ocupam as mesmas posições nos containeres originais:"
   ]
  },
  {
   "cell_type": "code",
   "execution_count": null,
   "metadata": {
    "collapsed": true
   },
   "outputs": [],
   "source": [
    "val anotherSeq = Seq(\"one\", \"two\", \"three\", \"four\")\n",
    "\n",
    "aSeq.zip(anotherSeq)"
   ]
  },
  {
   "cell_type": "code",
   "execution_count": null,
   "metadata": {
    "collapsed": true
   },
   "outputs": [],
   "source": [
    "// Exercício: use o operador zip para criar um Map a partir de dois Seqs, onde o primeiro Seq contém \n",
    "//            chaves e o segundo Seq contém os valores correspondentes."
   ]
  },
  {
   "cell_type": "markdown",
   "metadata": {},
   "source": [
    "*O que acontece se os containeres tiverem tamanhos diferentes?*"
   ]
  },
  {
   "cell_type": "markdown",
   "metadata": {},
   "source": [
    "*Qual resultado é obtido com a expressão aSeq.zip(aSeq.tail)?*"
   ]
  },
  {
   "cell_type": "markdown",
   "metadata": {},
   "source": [
    "#### Veremos mais à frente que esses operadores, principalmente *flatMap*, são bem mais genéricos do que simplesmente maneiras de manipular containeres."
   ]
  }
 ],
 "metadata": {
  "anaconda-cloud": {},
  "kernelspec": {
   "display_name": "Scala 2.11",
   "language": "scala211",
   "name": "scala211"
  },
  "language_info": {
   "codemirror_mode": "text/x-scala",
   "file_extension": ".scala",
   "mimetype": "text/x-scala",
   "name": "scala211",
   "pygments_lexer": "scala",
   "version": "2.11.7"
  }
 },
 "nbformat": 4,
 "nbformat_minor": 2
}
