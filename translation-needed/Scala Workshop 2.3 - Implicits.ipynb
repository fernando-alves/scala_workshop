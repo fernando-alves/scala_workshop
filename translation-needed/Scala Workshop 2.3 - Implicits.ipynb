{
 "cells": [
  {
   "cell_type": "markdown",
   "metadata": {},
   "source": [
    "Existem dois contextos onde **implicits** são usados em Scala: parâmetros implícitos e conversões implícitas."
   ]
  },
  {
   "cell_type": "markdown",
   "metadata": {},
   "source": [
    "## Parâmetros e variáveis implícitas"
   ]
  },
  {
   "cell_type": "code",
   "execution_count": null,
   "metadata": {
    "collapsed": false
   },
   "outputs": [],
   "source": [
    "val faultResults = Seq(\"found\", \"found\", \"found\", \"not found\", \"found\", \"not found\")  // Contexto\n",
    "\n",
    "def getNthFaultResult(n: Int, context: Seq[String]): String = {\n",
    "    context(n)\n",
    "}\n",
    "\n",
    "getNthFaultResult(2, faultResults)"
   ]
  },
  {
   "cell_type": "code",
   "execution_count": null,
   "metadata": {
    "collapsed": true
   },
   "outputs": [],
   "source": [
    "implicit val faultResults = Seq(\"found\", \"found\", \"found\", \"not found\", \"found\", \"not found\")  // Contexto\n",
    "\n",
    "def getNthFaultResult(n: Int)(implicit context: Seq[String]): String = {\n",
    "    context(n)\n",
    "}\n",
    "\n",
    "getNthFaultResult(2)"
   ]
  },
  {
   "cell_type": "code",
   "execution_count": null,
   "metadata": {
    "collapsed": true
   },
   "outputs": [],
   "source": [
    "// Exercício: o que acontece no exemplo anterior se houvessem duas Seqs implícitas de Strings? \n",
    "//            E se apenas uma delas for implícita?"
   ]
  },
  {
   "cell_type": "markdown",
   "metadata": {},
   "source": [
    "## Conversões implícitas"
   ]
  },
  {
   "cell_type": "code",
   "execution_count": null,
   "metadata": {
    "collapsed": false
   },
   "outputs": [],
   "source": [
    "\"Felipe Martins\".firstName"
   ]
  },
  {
   "cell_type": "code",
   "execution_count": null,
   "metadata": {
    "collapsed": false
   },
   "outputs": [],
   "source": [
    "case class PersonName(val fullName: String) {\n",
    "    def firstName = fullName.split(\" \").head\n",
    "}\n",
    "PersonName(\"Felipe Martins\").firstName"
   ]
  },
  {
   "cell_type": "code",
   "execution_count": null,
   "metadata": {
    "collapsed": false
   },
   "outputs": [],
   "source": [
    "implicit def stringToPersonName(fullName: String) = PersonName(fullName)"
   ]
  },
  {
   "cell_type": "code",
   "execution_count": null,
   "metadata": {
    "collapsed": false
   },
   "outputs": [],
   "source": [
    "\"Felipe Martins\".firstName"
   ]
  },
  {
   "cell_type": "markdown",
   "metadata": {},
   "source": [
    "1. Método *firstName* chamado em um objeto String;\n",
    "2. Classe String não possui um método chamado *firstName*\n",
    "3. Quais classes visíveis nesse escopo possuem um método chamado *firstName*?\n",
    "    1. Classe *PersonName* possui método chamado *firstName*\n",
    "4. Existe algum método **implicit** que receba uma String como parâmetro e retorne um objeto da classe *PersonName*?\n",
    "    1. Sim, o método *stringToPersonName*\n",
    "5. Converta a expressão acima para \n",
    "    **stringToPersonName(\"Felipe Martins\").firstName**"
   ]
  },
  {
   "cell_type": "code",
   "execution_count": null,
   "metadata": {
    "collapsed": true
   },
   "outputs": [],
   "source": [
    "// Exercício: usando conversões implícitas, torne possível chamar um método \"isOdd\" em um Int que \n",
    "//            retorna true se o número for ímpar e false se ele for par."
   ]
  }
 ],
 "metadata": {
  "anaconda-cloud": {},
  "kernelspec": {
   "display_name": "Scala 2.11",
   "language": "scala211",
   "name": "scala211"
  },
  "language_info": {
   "codemirror_mode": "text/x-scala",
   "file_extension": ".scala",
   "mimetype": "text/x-scala",
   "name": "scala211",
   "pygments_lexer": "scala",
   "version": "2.11.7"
  }
 },
 "nbformat": 4,
 "nbformat_minor": 2
}
